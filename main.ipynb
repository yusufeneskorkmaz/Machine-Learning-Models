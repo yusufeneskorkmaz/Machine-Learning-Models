{
 "cells": [
  {
   "cell_type": "code",
   "execution_count": null,
   "id": "8527beea",
   "metadata": {},
   "outputs": [],
   "source": [
    "import pandas as pd\n",
    "from sklearn.model_selection import train_test_split\n",
    "from catboost import CatBoostRegressor\n",
    "from sklearn.metrics import mean_squared_error"
   ]
  },
  {
   "cell_type": "markdown",
   "id": "481412e5",
   "metadata": {},
   "source": [
    "# MySQL connection"
   ]
  },
  {
   "cell_type": "code",
   "execution_count": null,
   "id": "f9d6b479",
   "metadata": {},
   "outputs": [],
   "source": [
    "def load_data_from_mysql(host, user, password, database, tables):\n",
    "    conn = pymysql.connect(host=host, user=user, password=password, database=database)\n",
    "    dfs = []\n",
    "    for table in tables:\n",
    "        sql_query = f\"SELECT * FROM {table}\"\n",
    "        df = pd.read_sql(sql_query, conn)\n",
    "        dfs.append(df)\n",
    "    conn.close()\n",
    "    return pd.concat(dfs)"
   ]
  },
  {
   "cell_type": "code",
   "execution_count": null,
   "id": "a2145fd9",
   "metadata": {},
   "outputs": [],
   "source": [
    "# Since we have separate preprocess_data, train_and_evaluate_model functions for each table\n",
    "# we'll define preprocess_data function and train_and_evaluate_model function for each table"
   ]
  },
  {
   "cell_type": "code",
   "execution_count": null,
   "id": "1bf30d40",
   "metadata": {},
   "outputs": [],
   "source": [
    "tables = ['table1', 'table2', 'table3', 'table4']  # Names of our 4 SQL tables\n",
    "df = load_data_from_mysql(host='localhost', user='username', password='password', database='database_name', tables=tables)\n",
    "\n",
    "for table in tables:\n",
    "    X, y, cat_cols_idx = preprocess_data(df[df['table_name_column'] == table])\n",
    "    X_train, X_test, y_train, y_test = train_test_split(X, y, test_size=0.5, random_state=83, stratify=df[['Stage']])\n",
    "    model, rmse_train, rmse_test = train_and_evaluate_model(X_train, X_test, y_train, y_test, cat_cols_idx)\n",
    "    print(f\"Table: {table}, RMSE score for train {round(rmse_train,2)} percentage points, and for test {round(rmse_test,2)} percentage points\")"
   ]
  },
  {
   "cell_type": "code",
   "execution_count": null,
   "id": "32f1c6c7",
   "metadata": {},
   "outputs": [],
   "source": [
    "def preprocess_data(df):\n",
    "    cat_cols = df.select_dtypes(include=['object']).columns\n",
    "    cat_cols_idx = [list(df.columns).index(c) for c in cat_cols]\n",
    "    y = df[main_label].values.reshape(-1,)\n",
    "    X = df.drop([main_label], axis=1)\n",
    "    return X, y, cat_cols_idx\n"
   ]
  },
  {
   "cell_type": "markdown",
   "id": "4316f717",
   "metadata": {},
   "source": [
    "# CatBoost Regressor Model"
   ]
  },
  {
   "cell_type": "code",
   "execution_count": null,
   "id": "74c6dd38",
   "metadata": {},
   "outputs": [],
   "source": [
    "def train_and_evaluate_model(X_train, X_test, y_train, y_test, cat_cols_idx):\n",
    "    # Create CatBoost pools\n",
    "    train_pool = Pool(X_train, y_train, cat_features=cat_cols_idx)\n",
    "    test_pool = Pool(X_test, y_test, cat_features=cat_cols_idx)\n",
    "    \n",
    "    # Model creation\n",
    "    model = CatBoostRegressor(iterations=10000,\n",
    "                              depth=4,\n",
    "                              learning_rate=0.03,\n",
    "                              verbose=0,\n",
    "                              early_stopping_rounds=100,\n",
    "                              loss_function='RMSE')\n",
    "    \n",
    "    # Model training\n",
    "    model.fit(train_pool, eval_set=test_pool)\n",
    "    \n",
    "    # Make predictions\n",
    "    y_train_pred = model.predict(train_pool)\n",
    "    y_test_pred = model.predict(test_pool)\n",
    "    \n",
    "    # Calculate RMSE values\n",
    "    rmse_train = mean_squared_error(y_train, y_train_pred, squared=False)\n",
    "    rmse_test = mean_squared_error(y_test, y_test_pred, squared=False)\n",
    "    \n",
    "    return model, rmse_train, rmse_test"
   ]
  },
  {
   "cell_type": "markdown",
   "id": "c884d19e",
   "metadata": {},
   "source": [
    "# Results"
   ]
  },
  {
   "cell_type": "code",
   "execution_count": null,
   "id": "71387dd4",
   "metadata": {},
   "outputs": [],
   "source": [
    "results = {}\n",
    "for table in tables:\n",
    "    table_df = df[df['table_name_column'] == table]\n",
    "    X, y, cat_cols_idx = preprocess_data(table_df)\n",
    "    X_train, X_test, y_train, y_test = train_test_split(X, y, test_size=0.5, random_state=83, stratify=table_df[['Stage']])\n",
    "    model, rmse_train, rmse_test = train_and_evaluate_model(X_train, X_test, y_train, y_test, cat_cols_idx)\n",
    "    results[table] = {'RMSE_train': rmse_train, 'RMSE_test': rmse_test}\n",
    "    \n",
    "    \n",
    "for table, result in sorted(results.items()):\n",
    "    print(f\"Table: {table}, RMSE score for train {round(result['RMSE_train'],2)} percentage points, and for test {round(result['RMSE_test'],2)} percentage points\")    \n"
   ]
  },
  {
   "cell_type": "code",
   "execution_count": null,
   "id": "daf2b351",
   "metadata": {},
   "outputs": [],
   "source": []
  }
 ],
 "metadata": {
  "kernelspec": {
   "display_name": "Python 3 (ipykernel)",
   "language": "python",
   "name": "python3"
  },
  "language_info": {
   "codemirror_mode": {
    "name": "ipython",
    "version": 3
   },
   "file_extension": ".py",
   "mimetype": "text/x-python",
   "name": "python",
   "nbconvert_exporter": "python",
   "pygments_lexer": "ipython3",
   "version": "3.11.5"
  }
 },
 "nbformat": 4,
 "nbformat_minor": 5
}
